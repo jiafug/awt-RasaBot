{
  "nbformat": 4,
  "nbformat_minor": 0,
  "metadata": {
    "colab": {
      "name": "langdetect.ipynb",
      "provenance": [],
      "collapsed_sections": [],
      "machine_shape": "hm"
    },
    "kernelspec": {
      "name": "python3",
      "display_name": "Python 3"
    },
    "language_info": {
      "name": "python"
    },
    "widgets": {
      "application/vnd.jupyter.widget-state+json": {
        "df16ca83f3c04d79b9d094ca74a04ec3": {
          "model_module": "@jupyter-widgets/controls",
          "model_name": "HBoxModel",
          "model_module_version": "1.5.0",
          "state": {
            "_view_name": "HBoxView",
            "_dom_classes": [],
            "_model_name": "HBoxModel",
            "_view_module": "@jupyter-widgets/controls",
            "_model_module_version": "1.5.0",
            "_view_count": null,
            "_view_module_version": "1.5.0",
            "box_style": "",
            "layout": "IPY_MODEL_f153b63bb4474f73a17daa80a40e21dc",
            "_model_module": "@jupyter-widgets/controls",
            "children": [
              "IPY_MODEL_d04ee216de514fa4a5231806cacec751",
              "IPY_MODEL_ca2487c17a8244c8bb4d8a616600df00",
              "IPY_MODEL_a7f7a93cf6734362a3028021024365d6"
            ]
          }
        },
        "f153b63bb4474f73a17daa80a40e21dc": {
          "model_module": "@jupyter-widgets/base",
          "model_name": "LayoutModel",
          "model_module_version": "1.2.0",
          "state": {
            "_view_name": "LayoutView",
            "grid_template_rows": null,
            "right": null,
            "justify_content": null,
            "_view_module": "@jupyter-widgets/base",
            "overflow": null,
            "_model_module_version": "1.2.0",
            "_view_count": null,
            "flex_flow": null,
            "width": null,
            "min_width": null,
            "border": null,
            "align_items": null,
            "bottom": null,
            "_model_module": "@jupyter-widgets/base",
            "top": null,
            "grid_column": null,
            "overflow_y": null,
            "overflow_x": null,
            "grid_auto_flow": null,
            "grid_area": null,
            "grid_template_columns": null,
            "flex": null,
            "_model_name": "LayoutModel",
            "justify_items": null,
            "grid_row": null,
            "max_height": null,
            "align_content": null,
            "visibility": null,
            "align_self": null,
            "height": null,
            "min_height": null,
            "padding": null,
            "grid_auto_rows": null,
            "grid_gap": null,
            "max_width": null,
            "order": null,
            "_view_module_version": "1.2.0",
            "grid_template_areas": null,
            "object_position": null,
            "object_fit": null,
            "grid_auto_columns": null,
            "margin": null,
            "display": null,
            "left": null
          }
        },
        "d04ee216de514fa4a5231806cacec751": {
          "model_module": "@jupyter-widgets/controls",
          "model_name": "HTMLModel",
          "model_module_version": "1.5.0",
          "state": {
            "_view_name": "HTMLView",
            "style": "IPY_MODEL_dbe28ffe5ee841adabf05ae3c2fd47d4",
            "_dom_classes": [],
            "description": "",
            "_model_name": "HTMLModel",
            "placeholder": "​",
            "_view_module": "@jupyter-widgets/controls",
            "_model_module_version": "1.5.0",
            "value": "100%",
            "_view_count": null,
            "_view_module_version": "1.5.0",
            "description_tooltip": null,
            "_model_module": "@jupyter-widgets/controls",
            "layout": "IPY_MODEL_b8ff482473674cf68f71774e6dde7c01"
          }
        },
        "ca2487c17a8244c8bb4d8a616600df00": {
          "model_module": "@jupyter-widgets/controls",
          "model_name": "FloatProgressModel",
          "model_module_version": "1.5.0",
          "state": {
            "_view_name": "ProgressView",
            "style": "IPY_MODEL_b6abb7bfee7c429c9f1bb180e537e5eb",
            "_dom_classes": [],
            "description": "",
            "_model_name": "FloatProgressModel",
            "bar_style": "success",
            "max": 2,
            "_view_module": "@jupyter-widgets/controls",
            "_model_module_version": "1.5.0",
            "value": 2,
            "_view_count": null,
            "_view_module_version": "1.5.0",
            "orientation": "horizontal",
            "min": 0,
            "description_tooltip": null,
            "_model_module": "@jupyter-widgets/controls",
            "layout": "IPY_MODEL_91b43408cb73463da3a01506bb00ed5b"
          }
        },
        "a7f7a93cf6734362a3028021024365d6": {
          "model_module": "@jupyter-widgets/controls",
          "model_name": "HTMLModel",
          "model_module_version": "1.5.0",
          "state": {
            "_view_name": "HTMLView",
            "style": "IPY_MODEL_7cde092e2ef4415fa3d18d8aafb6d48e",
            "_dom_classes": [],
            "description": "",
            "_model_name": "HTMLModel",
            "placeholder": "​",
            "_view_module": "@jupyter-widgets/controls",
            "_model_module_version": "1.5.0",
            "value": " 2/2 [00:00&lt;00:00, 27.69it/s]",
            "_view_count": null,
            "_view_module_version": "1.5.0",
            "description_tooltip": null,
            "_model_module": "@jupyter-widgets/controls",
            "layout": "IPY_MODEL_ad51c83111a74dc7bbab6d5eebc3f4ff"
          }
        },
        "dbe28ffe5ee841adabf05ae3c2fd47d4": {
          "model_module": "@jupyter-widgets/controls",
          "model_name": "DescriptionStyleModel",
          "model_module_version": "1.5.0",
          "state": {
            "_view_name": "StyleView",
            "_model_name": "DescriptionStyleModel",
            "description_width": "",
            "_view_module": "@jupyter-widgets/base",
            "_model_module_version": "1.5.0",
            "_view_count": null,
            "_view_module_version": "1.2.0",
            "_model_module": "@jupyter-widgets/controls"
          }
        },
        "b8ff482473674cf68f71774e6dde7c01": {
          "model_module": "@jupyter-widgets/base",
          "model_name": "LayoutModel",
          "model_module_version": "1.2.0",
          "state": {
            "_view_name": "LayoutView",
            "grid_template_rows": null,
            "right": null,
            "justify_content": null,
            "_view_module": "@jupyter-widgets/base",
            "overflow": null,
            "_model_module_version": "1.2.0",
            "_view_count": null,
            "flex_flow": null,
            "width": null,
            "min_width": null,
            "border": null,
            "align_items": null,
            "bottom": null,
            "_model_module": "@jupyter-widgets/base",
            "top": null,
            "grid_column": null,
            "overflow_y": null,
            "overflow_x": null,
            "grid_auto_flow": null,
            "grid_area": null,
            "grid_template_columns": null,
            "flex": null,
            "_model_name": "LayoutModel",
            "justify_items": null,
            "grid_row": null,
            "max_height": null,
            "align_content": null,
            "visibility": null,
            "align_self": null,
            "height": null,
            "min_height": null,
            "padding": null,
            "grid_auto_rows": null,
            "grid_gap": null,
            "max_width": null,
            "order": null,
            "_view_module_version": "1.2.0",
            "grid_template_areas": null,
            "object_position": null,
            "object_fit": null,
            "grid_auto_columns": null,
            "margin": null,
            "display": null,
            "left": null
          }
        },
        "b6abb7bfee7c429c9f1bb180e537e5eb": {
          "model_module": "@jupyter-widgets/controls",
          "model_name": "ProgressStyleModel",
          "model_module_version": "1.5.0",
          "state": {
            "_view_name": "StyleView",
            "_model_name": "ProgressStyleModel",
            "description_width": "",
            "_view_module": "@jupyter-widgets/base",
            "_model_module_version": "1.5.0",
            "_view_count": null,
            "_view_module_version": "1.2.0",
            "bar_color": null,
            "_model_module": "@jupyter-widgets/controls"
          }
        },
        "91b43408cb73463da3a01506bb00ed5b": {
          "model_module": "@jupyter-widgets/base",
          "model_name": "LayoutModel",
          "model_module_version": "1.2.0",
          "state": {
            "_view_name": "LayoutView",
            "grid_template_rows": null,
            "right": null,
            "justify_content": null,
            "_view_module": "@jupyter-widgets/base",
            "overflow": null,
            "_model_module_version": "1.2.0",
            "_view_count": null,
            "flex_flow": null,
            "width": null,
            "min_width": null,
            "border": null,
            "align_items": null,
            "bottom": null,
            "_model_module": "@jupyter-widgets/base",
            "top": null,
            "grid_column": null,
            "overflow_y": null,
            "overflow_x": null,
            "grid_auto_flow": null,
            "grid_area": null,
            "grid_template_columns": null,
            "flex": null,
            "_model_name": "LayoutModel",
            "justify_items": null,
            "grid_row": null,
            "max_height": null,
            "align_content": null,
            "visibility": null,
            "align_self": null,
            "height": null,
            "min_height": null,
            "padding": null,
            "grid_auto_rows": null,
            "grid_gap": null,
            "max_width": null,
            "order": null,
            "_view_module_version": "1.2.0",
            "grid_template_areas": null,
            "object_position": null,
            "object_fit": null,
            "grid_auto_columns": null,
            "margin": null,
            "display": null,
            "left": null
          }
        },
        "7cde092e2ef4415fa3d18d8aafb6d48e": {
          "model_module": "@jupyter-widgets/controls",
          "model_name": "DescriptionStyleModel",
          "model_module_version": "1.5.0",
          "state": {
            "_view_name": "StyleView",
            "_model_name": "DescriptionStyleModel",
            "description_width": "",
            "_view_module": "@jupyter-widgets/base",
            "_model_module_version": "1.5.0",
            "_view_count": null,
            "_view_module_version": "1.2.0",
            "_model_module": "@jupyter-widgets/controls"
          }
        },
        "ad51c83111a74dc7bbab6d5eebc3f4ff": {
          "model_module": "@jupyter-widgets/base",
          "model_name": "LayoutModel",
          "model_module_version": "1.2.0",
          "state": {
            "_view_name": "LayoutView",
            "grid_template_rows": null,
            "right": null,
            "justify_content": null,
            "_view_module": "@jupyter-widgets/base",
            "overflow": null,
            "_model_module_version": "1.2.0",
            "_view_count": null,
            "flex_flow": null,
            "width": null,
            "min_width": null,
            "border": null,
            "align_items": null,
            "bottom": null,
            "_model_module": "@jupyter-widgets/base",
            "top": null,
            "grid_column": null,
            "overflow_y": null,
            "overflow_x": null,
            "grid_auto_flow": null,
            "grid_area": null,
            "grid_template_columns": null,
            "flex": null,
            "_model_name": "LayoutModel",
            "justify_items": null,
            "grid_row": null,
            "max_height": null,
            "align_content": null,
            "visibility": null,
            "align_self": null,
            "height": null,
            "min_height": null,
            "padding": null,
            "grid_auto_rows": null,
            "grid_gap": null,
            "max_width": null,
            "order": null,
            "_view_module_version": "1.2.0",
            "grid_template_areas": null,
            "object_position": null,
            "object_fit": null,
            "grid_auto_columns": null,
            "margin": null,
            "display": null,
            "left": null
          }
        }
      }
    }
  },
  "cells": [
    {
      "cell_type": "markdown",
      "source": [
        "# Create and train model"
      ],
      "metadata": {
        "id": "Z3VOEFNwwUeg"
      }
    },
    {
      "cell_type": "code",
      "source": [
        "!pip install datasets"
      ],
      "metadata": {
        "id": "zdypSo3wa0Ya"
      },
      "execution_count": null,
      "outputs": []
    },
    {
      "cell_type": "code",
      "source": [
        "import joblib\n",
        "import numpy as np\n",
        "import pandas as pd\n",
        "import matplotlib.pyplot as plt\n",
        "from sklearn.metrics import accuracy_score\n",
        "from sklearn.model_selection import train_test_split\n",
        "from sklearn.pipeline import Pipeline\n",
        "from sklearn.naive_bayes import MultinomialNB\n",
        "from sklearn.feature_extraction.text import CountVectorizer\n",
        "from sklearn.metrics import classification_report\n",
        "from datasets import load_dataset\n",
        "dataset = load_dataset('wili_2018')"
      ],
      "metadata": {
        "colab": {
          "base_uri": "https://localhost:8080/",
          "height": 86,
          "referenced_widgets": [
            "df16ca83f3c04d79b9d094ca74a04ec3",
            "f153b63bb4474f73a17daa80a40e21dc",
            "d04ee216de514fa4a5231806cacec751",
            "ca2487c17a8244c8bb4d8a616600df00",
            "a7f7a93cf6734362a3028021024365d6",
            "dbe28ffe5ee841adabf05ae3c2fd47d4",
            "b8ff482473674cf68f71774e6dde7c01",
            "b6abb7bfee7c429c9f1bb180e537e5eb",
            "91b43408cb73463da3a01506bb00ed5b",
            "7cde092e2ef4415fa3d18d8aafb6d48e",
            "ad51c83111a74dc7bbab6d5eebc3f4ff"
          ]
        },
        "id": "q2IKNEKPUjZg",
        "outputId": "c6c41bd1-412e-4fc1-c3f2-644f5fa88d82"
      },
      "execution_count": 1,
      "outputs": [
        {
          "output_type": "stream",
          "name": "stderr",
          "text": [
            "Reusing dataset wili_2018 (/root/.cache/huggingface/datasets/wili_2018/WiLI-2018 dataset/1.1.0/78d7fe4a9d0a01168e45657f302c776ee0afc0978d44e2c3759f4c4975b845f5)\n"
          ]
        },
        {
          "output_type": "display_data",
          "data": {
            "application/vnd.jupyter.widget-view+json": {
              "model_id": "df16ca83f3c04d79b9d094ca74a04ec3",
              "version_minor": 0,
              "version_major": 2
            },
            "text/plain": [
              "  0%|          | 0/2 [00:00<?, ?it/s]"
            ]
          },
          "metadata": {}
        }
      ]
    },
    {
      "cell_type": "code",
      "source": [
        "_CLASSES=[\"cdo\",\"glk\",\"jam\",\"lug\",\"san\",\"rue\",\"wol\",\"new\",\"mwl\",\"bre\",\"ara\",\"hye\",\"xmf\",\"ext\",\"cor\",\"yor\",\"div\",\"asm\",\"lat\",\"cym\",\"hif\",\"ace\",\"kbd\",\"tgk\",\"rus\",\"nso\",\"mya\",\"msa\",\"ava\",\"cbk\",\"urd\",\"deu\",\"swa\",\"pus\",\"bxr\",\"udm\",\"csb\",\"yid\",\"vro\",\"por\",\"pdc\",\"eng\",\"tha\",\"hat\",\"lmo\",\"pag\",\"jav\",\"chv\",\"nan\",\"sco\",\"kat\",\"bho\",\"bos\",\"kok\",\"oss\",\"mri\",\"fry\",\"cat\",\"azb\",\"kin\",\"hin\",\"sna\",\"dan\",\"egl\",\"mkd\",\"ron\",\"bul\",\"hrv\",\"som\",\"pam\",\"nav\",\"ksh\",\"nci\",\"khm\",\"sgs\",\"srn\",\"bar\",\"cos\",\"ckb\",\"pfl\",\"arz\",\"roa-tara\",\"fra\",\"mai\",\"zh-yue\",\"guj\",\"fin\",\"kir\",\"vol\",\"hau\",\"afr\",\"uig\",\"lao\",\"swe\",\"slv\",\"kor\",\"szl\",\"srp\",\"dty\",\"nrm\",\"dsb\",\"ind\",\"wln\",\"pnb\",\"ukr\",\"bpy\",\"vie\",\"tur\",\"aym\",\"lit\",\"zea\",\"pol\",\"est\",\"scn\",\"vls\",\"stq\",\"gag\",\"grn\",\"kaz\",\"ben\",\"pcd\",\"bjn\",\"krc\",\"amh\",\"diq\",\"ltz\",\"ita\",\"kab\",\"bel\",\"ang\",\"mhr\",\"che\",\"koi\",\"glv\",\"ido\",\"fao\",\"bak\",\"isl\",\"bcl\",\"tet\",\"jpn\",\"kur\",\"map-bms\",\"tyv\",\"olo\",\"arg\",\"ori\",\"lim\",\"tel\",\"lin\",\"roh\",\"sqi\",\"xho\",\"mlg\",\"fas\",\"hbs\",\"tam\",\"aze\",\"lad\",\"nob\",\"sin\",\"gla\",\"nap\",\"snd\",\"ast\",\"mal\",\"mdf\",\"tsn\",\"nds\",\"tgl\",\"nno\",\"sun\",\"lzh\",\"jbo\",\"crh\",\"pap\",\"oci\",\"hak\",\"uzb\",\"zho\",\"hsb\",\"sme\",\"mlt\",\"vep\",\"lez\",\"nld\",\"nds-nl\",\"mrj\",\"spa\",\"ceb\",\"ina\",\"heb\",\"hun\",\"que\",\"kaa\",\"mar\",\"vec\",\"frp\",\"ell\",\"sah\",\"eus\",\"ces\",\"slk\",\"chr\",\"lij\",\"nep\",\"srd\",\"ilo\",\"be-tarask\",\"bod\",\"orm\",\"war\",\"glg\",\"mon\",\"gle\",\"min\",\"ibo\",\"ile\",\"epo\",\"lav\",\"lrc\",\"als\",\"mzn\",\"rup\",\"fur\",\"tat\",\"myv\",\"pan\",\"ton\",\"kom\",\"wuu\",\"tcy\",\"tuk\",\"kan\",\"ltg\"]\n",
        "LABELS_STOI = {k: v for k, v in enumerate(_CLASSES)}\n",
        "LABELS_IOST = {v: k for k, v in enumerate(_CLASSES)}"
      ],
      "metadata": {
        "id": "DPXOvmTgaBU8"
      },
      "execution_count": 2,
      "outputs": []
    },
    {
      "cell_type": "code",
      "source": [
        "print(LABELS_IOST[\"deu\"])\n",
        "print(LABELS_STOI[24])"
      ],
      "metadata": {
        "colab": {
          "base_uri": "https://localhost:8080/"
        },
        "id": "KnQ-cQr0CRUc",
        "outputId": "084aed04-d787-4a44-acd6-75f4ae4befa3"
      },
      "execution_count": 103,
      "outputs": [
        {
          "output_type": "stream",
          "name": "stdout",
          "text": [
            "31\n",
            "rus\n"
          ]
        }
      ]
    },
    {
      "cell_type": "code",
      "source": [
        "supported_lang = [\"bos\", \"bul\", \"ces\", \"dan\", \"deu\", \"ell\", \"eng\", \"fra\", \"hrv\", \"ita\", \"lav\", \"nld\", \"pol\", \"por\", \"ron\", \"rus\", \"slk\", \"slv\", \"spa\", \"srp\", \"swe\", \"tur\"]\n",
        "lang_label = [LABELS_IOST[lang] for lang in supported_lang]\n",
        "lang_label.sort()"
      ],
      "metadata": {
        "id": "yELexAPzcJcl"
      },
      "execution_count": 108,
      "outputs": []
    },
    {
      "cell_type": "code",
      "source": [
        "df_train = pd.DataFrame(dataset['train'])\n",
        "df_test = pd.DataFrame(dataset['test'])\n",
        "df_res = df_train.append(df_test)\n",
        "df_train, df_test = train_test_split(df_res, test_size=0.2)"
      ],
      "metadata": {
        "id": "4BkVS0F6GkJ9"
      },
      "execution_count": 127,
      "outputs": []
    },
    {
      "cell_type": "code",
      "source": [
        "df_train = df_train[df_train['label'].isin(lang_label)]\n",
        "df_test = df_test[df_test['label'].isin(lang_label)]"
      ],
      "metadata": {
        "id": "bXh7l26Pe8B3"
      },
      "execution_count": 128,
      "outputs": []
    },
    {
      "cell_type": "code",
      "source": [
        "def preprocess(txt):\n",
        "  txt = str(txt)\n",
        "  return ''.join(e for e in txt if e.isalpha() or e == \" \")"
      ],
      "metadata": {
        "id": "5vPYuDRzJqn3"
      },
      "execution_count": 129,
      "outputs": []
    },
    {
      "cell_type": "code",
      "source": [
        "df_train['sentence'] = df_train['sentence'].apply(preprocess)\n",
        "df_test['sentence'] = df_test['sentence'].apply(preprocess)"
      ],
      "metadata": {
        "id": "f4TzdlDwqBA5"
      },
      "execution_count": 130,
      "outputs": []
    },
    {
      "cell_type": "code",
      "source": [
        "X_train, X_test, y_train, y_test = df_train['sentence'], df_test['sentence'], df_train['label'], df_test['label']\n",
        "pipeline = Pipeline([\n",
        "   ('vectorizer', CountVectorizer(analyzer = 'char',ngram_range=(3,3))),  \n",
        "   ('model', MultinomialNB())\n",
        "])\n",
        "pipeline.fit(X_train,y_train)\n",
        "y_pred = pipeline.predict(X_test)\n",
        "accuracy_score(y_test, y_pred)"
      ],
      "metadata": {
        "colab": {
          "base_uri": "https://localhost:8080/"
        },
        "id": "eSPSnIa0IMgy",
        "outputId": "b734af30-024f-48cf-f3d3-9380f0393783"
      },
      "execution_count": 151,
      "outputs": [
        {
          "output_type": "execute_result",
          "data": {
            "text/plain": [
              "0.9661209640745794"
            ]
          },
          "metadata": {},
          "execution_count": 151
        }
      ]
    },
    {
      "cell_type": "code",
      "source": [
        "print(classification_report(y_test, y_pred))"
      ],
      "metadata": {
        "colab": {
          "base_uri": "https://localhost:8080/"
        },
        "id": "GDAQcGOIJk7e",
        "outputId": "3e6c572c-c9fc-4c07-9c30-f919f06cd1d1"
      },
      "execution_count": 163,
      "outputs": [
        {
          "output_type": "stream",
          "name": "stdout",
          "text": [
            "              precision    recall  f1-score   support\n",
            "\n",
            "          24       1.00      1.00      1.00       208\n",
            "          31       0.96      0.97      0.97       213\n",
            "          39       0.98      0.97      0.98       195\n",
            "          41       0.80      0.99      0.89       190\n",
            "          52       0.85      0.81      0.83       194\n",
            "          62       0.99      0.98      0.99       188\n",
            "          65       1.00      0.99      0.99       188\n",
            "          66       1.00      0.97      0.99       188\n",
            "          67       0.82      0.87      0.85       201\n",
            "          82       0.96      0.98      0.97       194\n",
            "          93       1.00      1.00      1.00       213\n",
            "          94       1.00      0.96      0.98       213\n",
            "          97       1.00      0.91      0.95       190\n",
            "         107       0.96      0.98      0.97       182\n",
            "         111       1.00      1.00      1.00       218\n",
            "         126       0.98      0.95      0.97       212\n",
            "         185       1.00      0.97      0.98       195\n",
            "         188       0.99      0.98      0.99       203\n",
            "         198       1.00      0.99      0.99       180\n",
            "         201       1.00      0.98      0.99       214\n",
            "         202       1.00      0.99      1.00       221\n",
            "         219       1.00      0.99      1.00       198\n",
            "\n",
            "    accuracy                           0.97      4398\n",
            "   macro avg       0.97      0.97      0.97      4398\n",
            "weighted avg       0.97      0.97      0.97      4398\n",
            "\n"
          ]
        }
      ]
    },
    {
      "cell_type": "code",
      "source": [
        "joblib.dump(pipeline, 'langdetect.pkl')\n",
        "!cp langdetect.pkl '/content/drive/MyDrive/Colab Notebooks/rasa/models/'"
      ],
      "metadata": {
        "id": "Ud8N3xDhutms"
      },
      "execution_count": 171,
      "outputs": []
    },
    {
      "cell_type": "markdown",
      "source": [
        "# Run model"
      ],
      "metadata": {
        "id": "uc1pP_bywOJM"
      }
    },
    {
      "cell_type": "code",
      "source": [
        "_CLASSES=[\"cdo\",\"glk\",\"jam\",\"lug\",\"san\",\"rue\",\"wol\",\"new\",\"mwl\",\"bre\",\"ara\",\"hye\",\"xmf\",\"ext\",\"cor\",\"yor\",\"div\",\"asm\",\"lat\",\"cym\",\"hif\",\"ace\",\"kbd\",\"tgk\",\"rus\",\"nso\",\"mya\",\"msa\",\"ava\",\"cbk\",\"urd\",\"deu\",\"swa\",\"pus\",\"bxr\",\"udm\",\"csb\",\"yid\",\"vro\",\"por\",\"pdc\",\"eng\",\"tha\",\"hat\",\"lmo\",\"pag\",\"jav\",\"chv\",\"nan\",\"sco\",\"kat\",\"bho\",\"bos\",\"kok\",\"oss\",\"mri\",\"fry\",\"cat\",\"azb\",\"kin\",\"hin\",\"sna\",\"dan\",\"egl\",\"mkd\",\"ron\",\"bul\",\"hrv\",\"som\",\"pam\",\"nav\",\"ksh\",\"nci\",\"khm\",\"sgs\",\"srn\",\"bar\",\"cos\",\"ckb\",\"pfl\",\"arz\",\"roa-tara\",\"fra\",\"mai\",\"zh-yue\",\"guj\",\"fin\",\"kir\",\"vol\",\"hau\",\"afr\",\"uig\",\"lao\",\"swe\",\"slv\",\"kor\",\"szl\",\"srp\",\"dty\",\"nrm\",\"dsb\",\"ind\",\"wln\",\"pnb\",\"ukr\",\"bpy\",\"vie\",\"tur\",\"aym\",\"lit\",\"zea\",\"pol\",\"est\",\"scn\",\"vls\",\"stq\",\"gag\",\"grn\",\"kaz\",\"ben\",\"pcd\",\"bjn\",\"krc\",\"amh\",\"diq\",\"ltz\",\"ita\",\"kab\",\"bel\",\"ang\",\"mhr\",\"che\",\"koi\",\"glv\",\"ido\",\"fao\",\"bak\",\"isl\",\"bcl\",\"tet\",\"jpn\",\"kur\",\"map-bms\",\"tyv\",\"olo\",\"arg\",\"ori\",\"lim\",\"tel\",\"lin\",\"roh\",\"sqi\",\"xho\",\"mlg\",\"fas\",\"hbs\",\"tam\",\"aze\",\"lad\",\"nob\",\"sin\",\"gla\",\"nap\",\"snd\",\"ast\",\"mal\",\"mdf\",\"tsn\",\"nds\",\"tgl\",\"nno\",\"sun\",\"lzh\",\"jbo\",\"crh\",\"pap\",\"oci\",\"hak\",\"uzb\",\"zho\",\"hsb\",\"sme\",\"mlt\",\"vep\",\"lez\",\"nld\",\"nds-nl\",\"mrj\",\"spa\",\"ceb\",\"ina\",\"heb\",\"hun\",\"que\",\"kaa\",\"mar\",\"vec\",\"frp\",\"ell\",\"sah\",\"eus\",\"ces\",\"slk\",\"chr\",\"lij\",\"nep\",\"srd\",\"ilo\",\"be-tarask\",\"bod\",\"orm\",\"war\",\"glg\",\"mon\",\"gle\",\"min\",\"ibo\",\"ile\",\"epo\",\"lav\",\"lrc\",\"als\",\"mzn\",\"rup\",\"fur\",\"tat\",\"myv\",\"pan\",\"ton\",\"kom\",\"wuu\",\"tcy\",\"tuk\",\"kan\",\"ltg\"]\n",
        "LABELS_STOI = {k: v for k, v in enumerate(_CLASSES)}\n",
        "LABELS_IOST = {v: k for k, v in enumerate(_CLASSES)}"
      ],
      "metadata": {
        "id": "69dS9QnTwF6c"
      },
      "execution_count": 2,
      "outputs": []
    },
    {
      "cell_type": "code",
      "source": [
        "import joblib\n",
        "drive = '/content/drive/MyDrive/Colab Notebooks/rasa/models/'\n",
        "model = joblib.load(drive + 'langdetect.pkl')\n",
        "x = \"habe eine Frage\"\n",
        "y = LABELS_STOI[model.predict([x])[0]]\n",
        "prob = model.predict_proba([x]).flatten()[1]\n",
        "print(\"P('deu'|x) = \" + str(prob))\n",
        "print(\"most likly class: \" + y)"
      ],
      "metadata": {
        "colab": {
          "base_uri": "https://localhost:8080/"
        },
        "id": "_jhM72KjvBuF",
        "outputId": "2cb68072-9bd4-42bc-879e-228695c9baa2"
      },
      "execution_count": 8,
      "outputs": [
        {
          "output_type": "stream",
          "name": "stdout",
          "text": [
            "P('deu'|x) = 0.9999397191843299\n",
            "most likly class: deu\n"
          ]
        }
      ]
    }
  ]
}